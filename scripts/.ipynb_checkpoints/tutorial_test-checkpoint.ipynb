{
 "cells": [
  {
   "cell_type": "code",
   "execution_count": 4,
   "metadata": {},
   "outputs": [],
   "source": [
    "from src.extract import fetch_metadata, fetch_study_data, get_sample_analyses\n",
    "from src.plot import add_data_to_map\n",
    "from src.todo import join_on_sample_id_sub_select_df_columns, set_row_color_by_term_presence"
   ]
  },
  {
   "cell_type": "code",
   "execution_count": 2,
   "metadata": {},
   "outputs": [
    {
     "data": {
      "text/plain": [
       "'/Users/madisond/Desktop/classes/2023/fall/bi270/metagenomics'"
      ]
     },
     "execution_count": 2,
     "metadata": {},
     "output_type": "execute_result"
    }
   ],
   "source": [
    "import os\n",
    "os.getcwd()"
   ]
  },
  {
   "cell_type": "code",
   "execution_count": 5,
   "metadata": {},
   "outputs": [],
   "source": [
    "atlanteco_endpoint = 'super-studies/atlanteco/flagship-studies'\n",
    "api_url=\"https://www.ebi.ac.uk/metagenomics/api/v1\"\n",
    "popup=[\"study\", \"sample_id\"]\n",
    "identifier = \"go-terms\"\n",
    "go_term = 'GO:0015878'\n",
    "rename_columns={\n",
    "    \"attributes.accession\": \"analysis_ID\", \n",
    "    'relationships.study.data.id': \"study_ID\",\n",
    "    'relationships.sample.data.id': \"sample_ID\", \n",
    "    'relationships.assembly.data.id': \"assembly_ID\"\n",
    "    }\n",
    "columns_list = [identifier, 'lon', 'lat', 'study', 'attributes.accession', 'relationships.study.data.id', 'relationships.sample.data.id', 'relationships.assembly.data.id']\n",
    "popup_list = [\"study_ID\", \"sample_ID\", \"assembly_ID\", \"analysis_ID\"]"
   ]
  },
  {
   "cell_type": "code",
   "execution_count": 6,
   "metadata": {},
   "outputs": [
    {
     "name": "stdout",
     "output_type": "stream",
     "text": [
      "fetched study metadata:       type            id attributes.accession attributes.bioproject  \\\n",
      "0  studies  MGYS00006075         MGYS00006075            PRJEB50073   \n",
      "1  studies  MGYS00005780         MGYS00005780            PRJEB45427   \n",
      "2  studies  MGYS00006074         MGYS00006074            PRJEB51168   \n",
      "3  studies  MGYS00006072         MGYS00006072            PRJEB54918   \n",
      "4  studies  MGYS00006034         MGYS00006034            PRJEB50181   \n",
      "\n",
      "   attributes.samples-count  attributes.is-private  \\\n",
      "0                       159                  False   \n",
      "1                       480                  False   \n",
      "2                        75                  False   \n",
      "3                       130                  False   \n",
      "4                       971                  False   \n",
      "\n",
      "  attributes.secondary-accession attributes.centre-name  \\\n",
      "0                      ERP134625                    EMG   \n",
      "1                      ERP129541                    EMG   \n",
      "2                      ERP135767                    EMG   \n",
      "3                      ERP139784                    EMG   \n",
      "4                      ERP134737                    EMG   \n",
      "\n",
      "                           attributes.study-abstract  \\\n",
      "0  The Third Party Annotation (TPA) assembly was ...   \n",
      "1  The Third Party Annotation (TPA) assembly was ...   \n",
      "2  The Third Party Annotation (TPA) assembly was ...   \n",
      "3  The Third Party Annotation (TPA) assembly was ...   \n",
      "4  The Third Party Annotation (TPA) assembly was ...   \n",
      "\n",
      "                               attributes.study-name  \\\n",
      "0  EMG produced TPA metagenomics assembly of PRJE...   \n",
      "1  EMG produced TPA metagenomics assembly of PRJN...   \n",
      "2  EMG produced TPA metagenomics assembly of PRJE...   \n",
      "3  EMG produced TPA metagenomics assembly of PRJN...   \n",
      "4  EMG produced TPA metagenomics assembly of PRJN...   \n",
      "\n",
      "  attributes.data-origination attributes.last-update  \\\n",
      "0                   SUBMITTED    2023-09-27T18:43:33   \n",
      "1                   SUBMITTED    2023-09-27T15:08:51   \n",
      "2                   SUBMITTED    2022-10-21T19:56:09   \n",
      "3                   SUBMITTED    2022-10-13T14:03:52   \n",
      "4                   SUBMITTED    2022-10-10T12:22:12   \n",
      "\n",
      "                           relationships.biomes.data  \n",
      "0  [{'id': 'root:Environmental:Aquatic:Marine', '...  \n",
      "1  [{'id': 'root:Environmental:Aquatic:Marine', '...  \n",
      "2  [{'id': 'root:Environmental:Aquatic:Marine', '...  \n",
      "3  [{'id': 'root:Environmental:Aquatic:Marine:Oce...  \n",
      "4  [{'id': 'root:Environmental:Aquatic:Marine', '...  \n",
      "fetching MGYS00006075 samples\n",
      "fetching MGYS00005780 samples\n",
      "fetching MGYS00006074 samples\n",
      "fetching MGYS00006072 samples\n",
      "fetching MGYS00006034 samples\n",
      "fetching MGYS00006061 samples\n",
      "fetched 1818 samples\n",
      "Study samples            sample_id         study       lon      lat    color\n",
      "accession                                                     \n",
      "ERS491130  ERS491130  MGYS00006075  -53.0063 -64.3595  #FF0000\n",
      "ERS491201  ERS491201  MGYS00006075  -56.0916 -63.8768  #FF0000\n",
      "ERS493286  ERS493286  MGYS00006075 -158.0067  22.7546  #FF0000\n",
      "ERS492680  ERS492680  MGYS00006075 -139.2393  -8.9729  #FF0000\n",
      "ERS488769  ERS488769  MGYS00006075   63.5851  20.8457  #FF0000\n"
     ]
    },
    {
     "ename": "ImportError",
     "evalue": "geopandas is not installed. Please install it before proceeding. https://geopandas.org",
     "output_type": "error",
     "traceback": [
      "\u001b[0;31m---------------------------------------------------------------------------\u001b[0m",
      "\u001b[0;31mModuleNotFoundError\u001b[0m                       Traceback (most recent call last)",
      "\u001b[0;32m~/Desktop/classes/2023/fall/bi270/metagenomics/.env/lib/python3.11/site-packages/leafmap/common.py\u001b[0m in \u001b[0;36m?\u001b[0;34m(name, URL)\u001b[0m\n\u001b[1;32m    160\u001b[0m         \u001b[0m__import__\u001b[0m\u001b[0;34m(\u001b[0m\u001b[0mname\u001b[0m\u001b[0;34m.\u001b[0m\u001b[0mlower\u001b[0m\u001b[0;34m(\u001b[0m\u001b[0;34m)\u001b[0m\u001b[0;34m)\u001b[0m\u001b[0;34m\u001b[0m\u001b[0;34m\u001b[0m\u001b[0m\n\u001b[1;32m    161\u001b[0m     \u001b[0;32mexcept\u001b[0m \u001b[0mException\u001b[0m\u001b[0;34m:\u001b[0m\u001b[0;34m\u001b[0m\u001b[0;34m\u001b[0m\u001b[0m\n\u001b[0;32m--> 162\u001b[0;31m         raise ImportError(\n\u001b[0m\u001b[1;32m    163\u001b[0m             \u001b[0;34mf\"{name} is not installed. Please install it before proceeding. {URL}\"\u001b[0m\u001b[0;34m\u001b[0m\u001b[0;34m\u001b[0m\u001b[0m\n",
      "\u001b[0;31mModuleNotFoundError\u001b[0m: No module named 'geopandas'",
      "\nDuring handling of the above exception, another exception occurred:\n",
      "\u001b[0;31mImportError\u001b[0m                               Traceback (most recent call last)",
      "\u001b[0;32m/var/folders/f3/zyvmf_xs32qbkl_h7913df540000gn/T/ipykernel_53640/3820461592.py\u001b[0m in \u001b[0;36m?\u001b[0;34m()\u001b[0m\n\u001b[1;32m      2\u001b[0m \u001b[0mprint\u001b[0m\u001b[0;34m(\u001b[0m\u001b[0;34mf\"fetched study metadata: {study_metadata[:5]}\"\u001b[0m\u001b[0;34m)\u001b[0m\u001b[0;34m\u001b[0m\u001b[0;34m\u001b[0m\u001b[0m\n\u001b[1;32m      3\u001b[0m \u001b[0mstudy_samples\u001b[0m \u001b[0;34m=\u001b[0m \u001b[0mfetch_study_data\u001b[0m\u001b[0;34m(\u001b[0m\u001b[0mapi_url\u001b[0m\u001b[0;34m,\u001b[0m \u001b[0mstudy_metadata\u001b[0m\u001b[0;34m)\u001b[0m\u001b[0;34m\u001b[0m\u001b[0;34m\u001b[0m\u001b[0m\n\u001b[1;32m      4\u001b[0m \u001b[0mprint\u001b[0m\u001b[0;34m(\u001b[0m\u001b[0;34mf\"fetched {len(study_samples)} samples\"\u001b[0m\u001b[0;34m)\u001b[0m\u001b[0;34m\u001b[0m\u001b[0;34m\u001b[0m\u001b[0m\n\u001b[1;32m      5\u001b[0m \u001b[0mprint\u001b[0m\u001b[0;34m(\u001b[0m\u001b[0;34mf\"Study samples {study_samples.head()}\"\u001b[0m\u001b[0;34m)\u001b[0m\u001b[0;34m\u001b[0m\u001b[0;34m\u001b[0m\u001b[0m\n\u001b[0;32m----> 6\u001b[0;31m \u001b[0mm\u001b[0m \u001b[0;34m=\u001b[0m \u001b[0madd_data_to_map\u001b[0m\u001b[0;34m(\u001b[0m\u001b[0mstudy_samples\u001b[0m\u001b[0;34m,\u001b[0m \u001b[0mpopup\u001b[0m\u001b[0;34m,\u001b[0m \u001b[0;34m'color'\u001b[0m\u001b[0;34m)\u001b[0m\u001b[0;34m\u001b[0m\u001b[0;34m\u001b[0m\u001b[0m\n\u001b[0m\u001b[1;32m      7\u001b[0m \u001b[0mm\u001b[0m\u001b[0;34m\u001b[0m\u001b[0;34m\u001b[0m\u001b[0m\n",
      "\u001b[0;32m~/Desktop/classes/2023/fall/bi270/metagenomics/src/plot.py\u001b[0m in \u001b[0;36m?\u001b[0;34m(df, popup, color_column)\u001b[0m\n\u001b[1;32m      4\u001b[0m \u001b[0;32mdef\u001b[0m \u001b[0madd_data_to_map\u001b[0m\u001b[0;34m(\u001b[0m\u001b[0mdf\u001b[0m\u001b[0;34m,\u001b[0m \u001b[0mpopup\u001b[0m\u001b[0;34m,\u001b[0m \u001b[0mcolor_column\u001b[0m\u001b[0;34m)\u001b[0m\u001b[0;34m:\u001b[0m\u001b[0;34m\u001b[0m\u001b[0;34m\u001b[0m\u001b[0m\n\u001b[1;32m      5\u001b[0m     \u001b[0mm\u001b[0m \u001b[0;34m=\u001b[0m \u001b[0mleafmap\u001b[0m\u001b[0;34m.\u001b[0m\u001b[0mMap\u001b[0m\u001b[0;34m(\u001b[0m\u001b[0mcenter\u001b[0m\u001b[0;34m=\u001b[0m\u001b[0;34m(\u001b[0m\u001b[0;36m0\u001b[0m\u001b[0;34m,\u001b[0m \u001b[0;36m0\u001b[0m\u001b[0;34m)\u001b[0m\u001b[0;34m,\u001b[0m \u001b[0mzoom\u001b[0m\u001b[0;34m=\u001b[0m\u001b[0;36m2\u001b[0m\u001b[0;34m)\u001b[0m\u001b[0;34m\u001b[0m\u001b[0;34m\u001b[0m\u001b[0m\n\u001b[0;32m----> 6\u001b[0;31m     m.add_points_from_xy(df, \n\u001b[0m\u001b[1;32m      7\u001b[0m                          \u001b[0mx\u001b[0m\u001b[0;34m=\u001b[0m\u001b[0;34m'lon'\u001b[0m\u001b[0;34m,\u001b[0m\u001b[0;34m\u001b[0m\u001b[0;34m\u001b[0m\u001b[0m\n\u001b[1;32m      8\u001b[0m                          \u001b[0my\u001b[0m\u001b[0;34m=\u001b[0m\u001b[0;34m'lat'\u001b[0m\u001b[0;34m,\u001b[0m\u001b[0;34m\u001b[0m\u001b[0;34m\u001b[0m\u001b[0m\n\u001b[1;32m      9\u001b[0m                          \u001b[0mpopup\u001b[0m\u001b[0;34m=\u001b[0m\u001b[0mpopup\u001b[0m\u001b[0;34m,\u001b[0m\u001b[0;34m\u001b[0m\u001b[0;34m\u001b[0m\u001b[0m\n",
      "\u001b[0;32m~/Desktop/classes/2023/fall/bi270/metagenomics/.env/lib/python3.11/site-packages/leafmap/leafmap.py\u001b[0m in \u001b[0;36m?\u001b[0;34m(self, data, x, y, popup, layer_name, color_column, marker_colors, icon_colors, icon_names, spin, add_legend, max_cluster_radius, **kwargs)\u001b[0m\n\u001b[1;32m   3070\u001b[0m \u001b[0;34m\u001b[0m\u001b[0m\n\u001b[1;32m   3071\u001b[0m             \u001b[0mgdf\u001b[0m \u001b[0;34m=\u001b[0m \u001b[0mgpd\u001b[0m\u001b[0;34m.\u001b[0m\u001b[0mread_file\u001b[0m\u001b[0;34m(\u001b[0m\u001b[0mdata\u001b[0m\u001b[0;34m)\u001b[0m\u001b[0;34m\u001b[0m\u001b[0;34m\u001b[0m\u001b[0m\n\u001b[1;32m   3072\u001b[0m             \u001b[0mdf\u001b[0m \u001b[0;34m=\u001b[0m \u001b[0mgdf_to_df\u001b[0m\u001b[0;34m(\u001b[0m\u001b[0mgdf\u001b[0m\u001b[0;34m)\u001b[0m\u001b[0;34m\u001b[0m\u001b[0;34m\u001b[0m\u001b[0m\n\u001b[1;32m   3073\u001b[0m \u001b[0;34m\u001b[0m\u001b[0m\n\u001b[0;32m-> 3074\u001b[0;31m         \u001b[0mdf\u001b[0m \u001b[0;34m=\u001b[0m \u001b[0mpoints_from_xy\u001b[0m\u001b[0;34m(\u001b[0m\u001b[0mdf\u001b[0m\u001b[0;34m,\u001b[0m \u001b[0mx\u001b[0m\u001b[0;34m,\u001b[0m \u001b[0my\u001b[0m\u001b[0;34m)\u001b[0m\u001b[0;34m\u001b[0m\u001b[0;34m\u001b[0m\u001b[0m\n\u001b[0m\u001b[1;32m   3075\u001b[0m \u001b[0;34m\u001b[0m\u001b[0m\n\u001b[1;32m   3076\u001b[0m         \u001b[0mcol_names\u001b[0m \u001b[0;34m=\u001b[0m \u001b[0mdf\u001b[0m\u001b[0;34m.\u001b[0m\u001b[0mcolumns\u001b[0m\u001b[0;34m.\u001b[0m\u001b[0mvalues\u001b[0m\u001b[0;34m.\u001b[0m\u001b[0mtolist\u001b[0m\u001b[0;34m(\u001b[0m\u001b[0;34m)\u001b[0m\u001b[0;34m\u001b[0m\u001b[0;34m\u001b[0m\u001b[0m\n\u001b[1;32m   3077\u001b[0m \u001b[0;34m\u001b[0m\u001b[0m\n",
      "\u001b[0;32m~/Desktop/classes/2023/fall/bi270/metagenomics/.env/lib/python3.11/site-packages/leafmap/common.py\u001b[0m in \u001b[0;36m?\u001b[0;34m(data, x, y, z, crs, **kwargs)\u001b[0m\n\u001b[1;32m   3161\u001b[0m \u001b[0;34m\u001b[0m\u001b[0m\n\u001b[1;32m   3162\u001b[0m     \u001b[0mReturns\u001b[0m\u001b[0;34m:\u001b[0m\u001b[0;34m\u001b[0m\u001b[0;34m\u001b[0m\u001b[0m\n\u001b[1;32m   3163\u001b[0m         \u001b[0mgeopandas\u001b[0m\u001b[0;34m.\u001b[0m\u001b[0mGeoDataFrame\u001b[0m\u001b[0;34m:\u001b[0m \u001b[0mA\u001b[0m \u001b[0mGeoPandas\u001b[0m \u001b[0mGeoDataFrame\u001b[0m \u001b[0mcontaining\u001b[0m \u001b[0mx\u001b[0m\u001b[0;34m,\u001b[0m \u001b[0my\u001b[0m\u001b[0;34m,\u001b[0m \u001b[0mz\u001b[0m \u001b[0mvalues\u001b[0m\u001b[0;34m.\u001b[0m\u001b[0;34m\u001b[0m\u001b[0;34m\u001b[0m\u001b[0m\n\u001b[1;32m   3164\u001b[0m     \"\"\"\n\u001b[0;32m-> 3165\u001b[0;31m     \u001b[0mcheck_package\u001b[0m\u001b[0;34m(\u001b[0m\u001b[0mname\u001b[0m\u001b[0;34m=\u001b[0m\u001b[0;34m\"geopandas\"\u001b[0m\u001b[0;34m,\u001b[0m \u001b[0mURL\u001b[0m\u001b[0;34m=\u001b[0m\u001b[0;34m\"https://geopandas.org\"\u001b[0m\u001b[0;34m)\u001b[0m\u001b[0;34m\u001b[0m\u001b[0;34m\u001b[0m\u001b[0m\n\u001b[0m\u001b[1;32m   3166\u001b[0m     \u001b[0;32mimport\u001b[0m \u001b[0mgeopandas\u001b[0m \u001b[0;32mas\u001b[0m \u001b[0mgpd\u001b[0m\u001b[0;34m\u001b[0m\u001b[0;34m\u001b[0m\u001b[0m\n\u001b[1;32m   3167\u001b[0m     \u001b[0;32mimport\u001b[0m \u001b[0mpandas\u001b[0m \u001b[0;32mas\u001b[0m \u001b[0mpd\u001b[0m\u001b[0;34m\u001b[0m\u001b[0;34m\u001b[0m\u001b[0m\n\u001b[1;32m   3168\u001b[0m \u001b[0;34m\u001b[0m\u001b[0m\n",
      "\u001b[0;32m~/Desktop/classes/2023/fall/bi270/metagenomics/.env/lib/python3.11/site-packages/leafmap/common.py\u001b[0m in \u001b[0;36m?\u001b[0;34m(name, URL)\u001b[0m\n\u001b[1;32m    158\u001b[0m \u001b[0;32mdef\u001b[0m \u001b[0mcheck_package\u001b[0m\u001b[0;34m(\u001b[0m\u001b[0mname\u001b[0m\u001b[0;34m:\u001b[0m \u001b[0mstr\u001b[0m\u001b[0;34m,\u001b[0m \u001b[0mURL\u001b[0m\u001b[0;34m:\u001b[0m \u001b[0mOptional\u001b[0m\u001b[0;34m[\u001b[0m\u001b[0mstr\u001b[0m\u001b[0;34m]\u001b[0m \u001b[0;34m=\u001b[0m \u001b[0;34m\"\"\u001b[0m\u001b[0;34m)\u001b[0m\u001b[0;34m:\u001b[0m\u001b[0;34m\u001b[0m\u001b[0;34m\u001b[0m\u001b[0m\n\u001b[1;32m    159\u001b[0m     \u001b[0;32mtry\u001b[0m\u001b[0;34m:\u001b[0m\u001b[0;34m\u001b[0m\u001b[0;34m\u001b[0m\u001b[0m\n\u001b[1;32m    160\u001b[0m         \u001b[0m__import__\u001b[0m\u001b[0;34m(\u001b[0m\u001b[0mname\u001b[0m\u001b[0;34m.\u001b[0m\u001b[0mlower\u001b[0m\u001b[0;34m(\u001b[0m\u001b[0;34m)\u001b[0m\u001b[0;34m)\u001b[0m\u001b[0;34m\u001b[0m\u001b[0;34m\u001b[0m\u001b[0m\n\u001b[1;32m    161\u001b[0m     \u001b[0;32mexcept\u001b[0m \u001b[0mException\u001b[0m\u001b[0;34m:\u001b[0m\u001b[0;34m\u001b[0m\u001b[0;34m\u001b[0m\u001b[0m\n\u001b[0;32m--> 162\u001b[0;31m         raise ImportError(\n\u001b[0m\u001b[1;32m    163\u001b[0m             \u001b[0;34mf\"{name} is not installed. Please install it before proceeding. {URL}\"\u001b[0m\u001b[0;34m\u001b[0m\u001b[0;34m\u001b[0m\u001b[0m\n\u001b[1;32m    164\u001b[0m         )\n",
      "\u001b[0;31mImportError\u001b[0m: geopandas is not installed. Please install it before proceeding. https://geopandas.org"
     ]
    }
   ],
   "source": [
    "study_metadata = fetch_metadata(atlanteco_endpoint, api_url)\n",
    "print(f\"fetched study metadata: {study_metadata[:5]}\")\n",
    "study_samples = fetch_study_data(api_url, study_metadata)\n",
    "print(f\"fetched {len(study_samples)} samples\")\n",
    "print(f\"Study samples {study_samples.head()}\")"
   ]
  },
  {
   "cell_type": "code",
   "execution_count": 28,
   "metadata": {},
   "outputs": [],
   "source": [
    "import matplotlib.pyplot as plt\n",
    "\n",
    "m = add_data_to_map(study_samples, popup, 'color')\n",
    "# plt.show()\n",
    "# type(m)\n",
    "m."
   ]
  },
  {
   "cell_type": "code",
   "execution_count": 20,
   "metadata": {},
   "outputs": [
    {
     "ename": "TypeError",
     "evalue": "not all arguments converted during string formatting",
     "output_type": "error",
     "traceback": [
      "\u001b[0;31m---------------------------------------------------------------------------\u001b[0m",
      "\u001b[0;31mTypeError\u001b[0m                                 Traceback (most recent call last)",
      "\u001b[1;32m/Users/madisond/Desktop/classes/2023/fall/bi270/metagenomics/scripts/tutorial_test.ipynb Cell 6\u001b[0m line \u001b[0;36m1\n\u001b[0;32m----> <a href='vscode-notebook-cell:/Users/madisond/Desktop/classes/2023/fall/bi270/metagenomics/scripts/tutorial_test.ipynb#W4sZmlsZQ%3D%3D?line=0'>1</a>\u001b[0m analyses \u001b[39m=\u001b[39m get_sample_analyses(api_url, study_samples)\n\u001b[1;32m      <a href='vscode-notebook-cell:/Users/madisond/Desktop/classes/2023/fall/bi270/metagenomics/scripts/tutorial_test.ipynb#W4sZmlsZQ%3D%3D?line=1'>2</a>\u001b[0m \u001b[39mprint\u001b[39m(\u001b[39mf\u001b[39m\u001b[39m\"\u001b[39m\u001b[39mSample analyses: \u001b[39m\u001b[39m{\u001b[39;00manalyses[:\u001b[39m5\u001b[39m]\u001b[39m}\u001b[39;00m\u001b[39m\"\u001b[39m)\n\u001b[1;32m      <a href='vscode-notebook-cell:/Users/madisond/Desktop/classes/2023/fall/bi270/metagenomics/scripts/tutorial_test.ipynb#W4sZmlsZQ%3D%3D?line=2'>3</a>\u001b[0m analyses \u001b[39m=\u001b[39m set_row_color_by_term_presence(api_url, go_term, identifier, analyses)\n",
      "File \u001b[0;32m~/Desktop/classes/2023/fall/bi270/metagenomics/src/extract.py:38\u001b[0m, in \u001b[0;36mget_sample_analyses\u001b[0;34m(api_path, study_samples, analysis_limit)\u001b[0m\n\u001b[1;32m     36\u001b[0m \u001b[39mwith\u001b[39;00m Session(api_path) \u001b[39mas\u001b[39;00m mgnify:\n\u001b[1;32m     37\u001b[0m     \u001b[39mfor\u001b[39;00m idx, sample \u001b[39min\u001b[39;00m study_samples[:analysis_limit]\u001b[39m.\u001b[39miterrows():\n\u001b[0;32m---> 38\u001b[0m         \u001b[39mif\u001b[39;00m idx \u001b[39m%\u001b[39;49m \u001b[39m5\u001b[39;49m \u001b[39m==\u001b[39m \u001b[39m0\u001b[39m:\n\u001b[1;32m     39\u001b[0m             \u001b[39mprint\u001b[39m(\u001b[39mf\u001b[39m\u001b[39m\"\u001b[39m\u001b[39mprocessing \u001b[39m\u001b[39m{\u001b[39;00msample\u001b[39m.\u001b[39msample_id\u001b[39m}\u001b[39;00m\u001b[39m, numbar \u001b[39m\u001b[39m{\u001b[39;00midx\u001b[39m}\u001b[39;00m\u001b[39m of \u001b[39m\u001b[39m{\u001b[39;00mstudy_samples\u001b[39m.\u001b[39mshape[\u001b[39m0\u001b[39m]\u001b[39m}\u001b[39;00m\u001b[39m\"\u001b[39m)\n\u001b[1;32m     40\u001b[0m         filtering \u001b[39m=\u001b[39m Modifier(\u001b[39mf\u001b[39m\u001b[39m\"\u001b[39m\u001b[39mpipeline_version=5.0&sample_accession=\u001b[39m\u001b[39m{\u001b[39;00msample\u001b[39m.\u001b[39msample_id\u001b[39m}\u001b[39;00m\u001b[39m&experiment_type=assembly\u001b[39m\u001b[39m\"\u001b[39m)\n",
      "\u001b[0;31mTypeError\u001b[0m: not all arguments converted during string formatting"
     ]
    }
   ],
   "source": [
    "analyses = get_sample_analyses(api_url, study_samples)\n",
    "print(f\"Sample analyses: {analyses[:5]}\")\n",
    "analyses = set_row_color_by_term_presence(api_url, go_term, identifier, analyses)\n",
    "df2 = join_on_sample_id_sub_select_df_columns(analyses, rename_columns, columns_list, study_samples)\n",
    "m2 = add_data_to_map(df2, popup_list, identifier)\n",
    "m2\n"
   ]
  },
  {
   "cell_type": "code",
   "execution_count": null,
   "metadata": {},
   "outputs": [],
   "source": []
  }
 ],
 "metadata": {
  "kernelspec": {
   "display_name": ".env",
   "language": "python",
   "name": "python3"
  },
  "language_info": {
   "codemirror_mode": {
    "name": "ipython",
    "version": 3
   },
   "file_extension": ".py",
   "mimetype": "text/x-python",
   "name": "python",
   "nbconvert_exporter": "python",
   "pygments_lexer": "ipython3",
   "version": "3.11.4"
  }
 },
 "nbformat": 4,
 "nbformat_minor": 2
}
