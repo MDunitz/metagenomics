{
 "cells": [
  {
   "cell_type": "code",
   "execution_count": 1,
   "metadata": {},
   "outputs": [
    {
     "data": {
      "text/plain": [
       "'/Users/madisond/Desktop/classes/2023/fall/bi270/metagenomics'"
      ]
     },
     "execution_count": 1,
     "metadata": {},
     "output_type": "execute_result"
    }
   ],
   "source": [
    "import os\n",
    "\n",
    "os.chdir(\"/Users/madisond/Desktop/classes/2023/fall/bi270/metagenomics/\")\n",
    "os.getcwd()\n"
   ]
  },
  {
   "cell_type": "code",
   "execution_count": 2,
   "metadata": {},
   "outputs": [],
   "source": [
    "\n",
    "from src.extract import fetch_metadata, fetch_study_data, get_sample_analyses\n",
    "from src.plot import add_data_to_map\n",
    "from src.todo import join_on_sample_id_sub_select_df_columns, set_row_color_by_term_presence"
   ]
  },
  {
   "cell_type": "code",
   "execution_count": 3,
   "metadata": {},
   "outputs": [],
   "source": [
    "atlanteco_endpoint = 'super-studies/atlanteco/flagship-studies'\n",
    "api_url=\"https://www.ebi.ac.uk/metagenomics/api/v1\"\n",
    "popup=[\"study\", \"sample_id\"]\n",
    "identifier = \"go-terms\"\n",
    "go_term = 'GO:0015878'\n",
    "rename_columns={\n",
    "    \"attributes.accession\": \"analysis_ID\", \n",
    "    'relationships.study.data.id': \"study_ID\",\n",
    "    'relationships.sample.data.id': \"sample_ID\", \n",
    "    'relationships.assembly.data.id': \"assembly_ID\"\n",
    "    }\n",
    "columns_list = [identifier, 'lon', 'lat', 'study', 'attributes.accession', 'relationships.study.data.id', 'relationships.sample.data.id', 'relationships.assembly.data.id']\n",
    "popup_list = [\"study_ID\", \"sample_ID\", \"assembly_ID\", \"analysis_ID\"]"
   ]
  },
  {
   "cell_type": "code",
   "execution_count": 4,
   "metadata": {},
   "outputs": [
    {
     "name": "stdout",
     "output_type": "stream",
     "text": [
      "fetched study metadata:       type            id  attributes.samples-count attributes.accession  \\\n",
      "0  studies  MGYS00006075                       159         MGYS00006075   \n",
      "1  studies  MGYS00005780                       480         MGYS00005780   \n",
      "2  studies  MGYS00006074                        75         MGYS00006074   \n",
      "3  studies  MGYS00006072                       130         MGYS00006072   \n",
      "4  studies  MGYS00006034                       971         MGYS00006034   \n",
      "\n",
      "  attributes.bioproject  attributes.is-private attributes.secondary-accession  \\\n",
      "0            PRJEB50073                  False                      ERP134625   \n",
      "1            PRJEB45427                  False                      ERP129541   \n",
      "2            PRJEB51168                  False                      ERP135767   \n",
      "3            PRJEB54918                  False                      ERP139784   \n",
      "4            PRJEB50181                  False                      ERP134737   \n",
      "\n",
      "  attributes.centre-name                          attributes.study-abstract  \\\n",
      "0                    EMG  The Third Party Annotation (TPA) assembly was ...   \n",
      "1                    EMG  The Third Party Annotation (TPA) assembly was ...   \n",
      "2                    EMG  The Third Party Annotation (TPA) assembly was ...   \n",
      "3                    EMG  The Third Party Annotation (TPA) assembly was ...   \n",
      "4                    EMG  The Third Party Annotation (TPA) assembly was ...   \n",
      "\n",
      "                               attributes.study-name  \\\n",
      "0  EMG produced TPA metagenomics assembly of PRJE...   \n",
      "1  EMG produced TPA metagenomics assembly of PRJN...   \n",
      "2  EMG produced TPA metagenomics assembly of PRJE...   \n",
      "3  EMG produced TPA metagenomics assembly of PRJN...   \n",
      "4  EMG produced TPA metagenomics assembly of PRJN...   \n",
      "\n",
      "  attributes.data-origination attributes.last-update  \\\n",
      "0                   SUBMITTED    2023-09-27T18:43:33   \n",
      "1                   SUBMITTED    2023-09-27T15:08:51   \n",
      "2                   SUBMITTED    2022-10-21T19:56:09   \n",
      "3                   SUBMITTED    2022-10-13T14:03:52   \n",
      "4                   SUBMITTED    2022-10-10T12:22:12   \n",
      "\n",
      "                           relationships.biomes.data  \n",
      "0  [{'id': 'root:Environmental:Aquatic:Marine', '...  \n",
      "1  [{'id': 'root:Environmental:Aquatic:Marine', '...  \n",
      "2  [{'id': 'root:Environmental:Aquatic:Marine', '...  \n",
      "3  [{'id': 'root:Environmental:Aquatic:Marine:Oce...  \n",
      "4  [{'id': 'root:Environmental:Aquatic:Marine', '...  \n",
      "fetching MGYS00006075 samples\n",
      "fetching MGYS00005780 samples\n",
      "fetching MGYS00006074 samples\n",
      "fetching MGYS00006072 samples\n",
      "fetching MGYS00006034 samples\n",
      "fetching MGYS00006061 samples\n",
      "fetched 1818 samples\n",
      "Study samples            sample_id         study       lon      lat    color\n",
      "accession                                                     \n",
      "ERS491130  ERS491130  MGYS00006075  -53.0063 -64.3595  #FF0000\n",
      "ERS491201  ERS491201  MGYS00006075  -56.0916 -63.8768  #FF0000\n",
      "ERS493286  ERS493286  MGYS00006075 -158.0067  22.7546  #FF0000\n",
      "ERS492680  ERS492680  MGYS00006075 -139.2393  -8.9729  #FF0000\n",
      "ERS488769  ERS488769  MGYS00006075   63.5851  20.8457  #FF0000\n"
     ]
    }
   ],
   "source": [
    "study_metadata = fetch_metadata(atlanteco_endpoint, api_url)\n",
    "print(f\"fetched study metadata: {study_metadata[:5]}\")\n",
    "study_samples = fetch_study_data(api_url, study_metadata)\n",
    "print(f\"fetched {len(study_samples)} samples\")\n",
    "print(f\"Study samples {study_samples.head()}\")"
   ]
  },
  {
   "cell_type": "code",
   "execution_count": 5,
   "metadata": {},
   "outputs": [
    {
     "ename": "AttributeError",
     "evalue": "'super' object has no attribute 'add'",
     "output_type": "error",
     "traceback": [
      "\u001b[0;31m---------------------------------------------------------------------------\u001b[0m",
      "\u001b[0;31mAttributeError\u001b[0m                            Traceback (most recent call last)",
      "Cell \u001b[0;32mIn[5], line 1\u001b[0m\n\u001b[0;32m----> 1\u001b[0m m \u001b[38;5;241m=\u001b[39m \u001b[43madd_data_to_map\u001b[49m\u001b[43m(\u001b[49m\u001b[43mstudy_samples\u001b[49m\u001b[43m,\u001b[49m\u001b[43m \u001b[49m\u001b[43mpopup\u001b[49m\u001b[43m,\u001b[49m\u001b[43m \u001b[49m\u001b[38;5;124;43m'\u001b[39;49m\u001b[38;5;124;43mcolor\u001b[39;49m\u001b[38;5;124;43m'\u001b[39;49m\u001b[43m)\u001b[49m\n\u001b[1;32m      2\u001b[0m m\n",
      "File \u001b[0;32m~/Desktop/classes/2023/fall/bi270/metagenomics/src/plot.py:5\u001b[0m, in \u001b[0;36madd_data_to_map\u001b[0;34m(df, popup, color_column)\u001b[0m\n\u001b[1;32m      4\u001b[0m \u001b[38;5;28;01mdef\u001b[39;00m \u001b[38;5;21madd_data_to_map\u001b[39m(df, popup, color_column):\n\u001b[0;32m----> 5\u001b[0m     m \u001b[38;5;241m=\u001b[39m \u001b[43mleafmap\u001b[49m\u001b[38;5;241;43m.\u001b[39;49m\u001b[43mMap\u001b[49m\u001b[43m(\u001b[49m\u001b[43mcenter\u001b[49m\u001b[38;5;241;43m=\u001b[39;49m\u001b[43m(\u001b[49m\u001b[38;5;241;43m0\u001b[39;49m\u001b[43m,\u001b[49m\u001b[43m \u001b[49m\u001b[38;5;241;43m0\u001b[39;49m\u001b[43m)\u001b[49m\u001b[43m,\u001b[49m\u001b[43m \u001b[49m\u001b[43mzoom\u001b[49m\u001b[38;5;241;43m=\u001b[39;49m\u001b[38;5;241;43m2\u001b[39;49m\u001b[43m)\u001b[49m\n\u001b[1;32m      6\u001b[0m     m\u001b[38;5;241m.\u001b[39madd_points_from_xy(df, \n\u001b[1;32m      7\u001b[0m                          x\u001b[38;5;241m=\u001b[39m\u001b[38;5;124m'\u001b[39m\u001b[38;5;124mlon\u001b[39m\u001b[38;5;124m'\u001b[39m, \n\u001b[1;32m      8\u001b[0m                          y\u001b[38;5;241m=\u001b[39m\u001b[38;5;124m'\u001b[39m\u001b[38;5;124mlat\u001b[39m\u001b[38;5;124m'\u001b[39m, \n\u001b[1;32m      9\u001b[0m                          popup\u001b[38;5;241m=\u001b[39mpopup,\n\u001b[1;32m     10\u001b[0m                         color_column\u001b[38;5;241m=\u001b[39mcolor_column, \n\u001b[1;32m     11\u001b[0m                         add_legend\u001b[38;5;241m=\u001b[39m\u001b[38;5;28;01mFalse\u001b[39;00m)\n\u001b[1;32m     12\u001b[0m     \u001b[38;5;28;01mreturn\u001b[39;00m m\n",
      "File \u001b[0;32m~/Desktop/classes/2023/fall/bi270/metagenomics/.env/lib/python3.11/site-packages/leafmap/leafmap.py:93\u001b[0m, in \u001b[0;36mMap.__init__\u001b[0;34m(self, **kwargs)\u001b[0m\n\u001b[1;32m     91\u001b[0m     kwargs[\u001b[38;5;124m\"\u001b[39m\u001b[38;5;124mfullscreen_control\u001b[39m\u001b[38;5;124m\"\u001b[39m] \u001b[38;5;241m=\u001b[39m \u001b[38;5;28;01mTrue\u001b[39;00m\n\u001b[1;32m     92\u001b[0m \u001b[38;5;28;01mif\u001b[39;00m kwargs[\u001b[38;5;124m\"\u001b[39m\u001b[38;5;124mfullscreen_control\u001b[39m\u001b[38;5;124m\"\u001b[39m]:\n\u001b[0;32m---> 93\u001b[0m     \u001b[38;5;28;43mself\u001b[39;49m\u001b[38;5;241;43m.\u001b[39;49m\u001b[43madd\u001b[49m\u001b[43m(\u001b[49m\u001b[43mipyleaflet\u001b[49m\u001b[38;5;241;43m.\u001b[39;49m\u001b[43mFullScreenControl\u001b[49m\u001b[43m(\u001b[49m\u001b[43m)\u001b[49m\u001b[43m)\u001b[49m\n\u001b[1;32m     95\u001b[0m \u001b[38;5;28;01mif\u001b[39;00m \u001b[38;5;124m\"\u001b[39m\u001b[38;5;124msearch_control\u001b[39m\u001b[38;5;124m\"\u001b[39m \u001b[38;5;129;01mnot\u001b[39;00m \u001b[38;5;129;01min\u001b[39;00m kwargs:\n\u001b[1;32m     96\u001b[0m     kwargs[\u001b[38;5;124m\"\u001b[39m\u001b[38;5;124msearch_control\u001b[39m\u001b[38;5;124m\"\u001b[39m] \u001b[38;5;241m=\u001b[39m \u001b[38;5;28;01mTrue\u001b[39;00m\n",
      "File \u001b[0;32m~/Desktop/classes/2023/fall/bi270/metagenomics/.env/lib/python3.11/site-packages/leafmap/leafmap.py:217\u001b[0m, in \u001b[0;36mMap.add\u001b[0;34m(self, object)\u001b[0m\n\u001b[1;32m    214\u001b[0m     \u001b[38;5;28;01mif\u001b[39;00m \u001b[38;5;28mobject\u001b[39m \u001b[38;5;129;01min\u001b[39;00m basemaps\u001b[38;5;241m.\u001b[39mkeys():\n\u001b[1;32m    215\u001b[0m         \u001b[38;5;28mobject\u001b[39m \u001b[38;5;241m=\u001b[39m get_basemap(\u001b[38;5;28mobject\u001b[39m)\n\u001b[0;32m--> 217\u001b[0m \u001b[38;5;28;43msuper\u001b[39;49m\u001b[43m(\u001b[49m\u001b[43m)\u001b[49m\u001b[38;5;241;43m.\u001b[39;49m\u001b[43madd\u001b[49m(\u001b[38;5;28mobject\u001b[39m)\n\u001b[1;32m    219\u001b[0m \u001b[38;5;28;01mif\u001b[39;00m \u001b[38;5;28mhasattr\u001b[39m(\u001b[38;5;28mself\u001b[39m, \u001b[38;5;124m\"\u001b[39m\u001b[38;5;124mlayer_manager_widget\u001b[39m\u001b[38;5;124m\"\u001b[39m):\n\u001b[1;32m    220\u001b[0m     \u001b[38;5;28mself\u001b[39m\u001b[38;5;241m.\u001b[39mupdate_layer_manager()\n",
      "\u001b[0;31mAttributeError\u001b[0m: 'super' object has no attribute 'add'"
     ]
    }
   ],
   "source": [
    "\n",
    "m = add_data_to_map(study_samples, popup, 'color')\n",
    "m"
   ]
  },
  {
   "cell_type": "code",
   "execution_count": 4,
   "metadata": {},
   "outputs": [
    {
     "name": "stdout",
     "output_type": "stream",
     "text": [
      "ERS491130\n",
      "ERS491201\n",
      "ERS493286\n",
      "ERS492680\n",
      "ERS488769\n",
      "ERS489043\n",
      "ERS493213\n",
      "ERS1092158\n",
      "ERS494696\n",
      "ERS489585\n",
      "Sample analyses:             type            id attributes.pipeline-version  \\\n",
      "0  analysis-jobs  MGYA00616211                         5.0   \n",
      "1  analysis-jobs  MGYA00687433                         5.0   \n",
      "2  analysis-jobs  MGYA00687456                         5.0   \n",
      "0  analysis-jobs  MGYA00615742                         5.0   \n",
      "1  analysis-jobs  MGYA00616249                         5.0   \n",
      "\n",
      "                         attributes.analysis-summary  \\\n",
      "0  [{'key': 'Submitted nucleotide sequences', 'va...   \n",
      "1  [{'key': 'Submitted nucleotide sequences', 'va...   \n",
      "2  [{'key': 'Submitted nucleotide sequences', 'va...   \n",
      "0  [{'key': 'Submitted nucleotide sequences', 'va...   \n",
      "1  [{'key': 'Submitted nucleotide sequences', 'va...   \n",
      "\n",
      "  attributes.analysis-status attributes.accession attributes.experiment-type  \\\n",
      "0                  completed         MGYA00616211                   assembly   \n",
      "1                  completed         MGYA00687433                   assembly   \n",
      "2                  completed         MGYA00687456                   assembly   \n",
      "0                  completed         MGYA00615742                   assembly   \n",
      "1                  completed         MGYA00616249                   assembly   \n",
      "\n",
      "   attributes.is-private attributes.complete-time  \\\n",
      "0                  False      2022-11-08T09:14:44   \n",
      "1                  False      2023-09-27T17:22:17   \n",
      "2                  False      2023-09-27T18:43:34   \n",
      "0                  False      2022-10-25T20:03:49   \n",
      "1                  False      2022-11-08T11:45:45   \n",
      "\n",
      "  attributes.instrument-platform attributes.instrument-model  \\\n",
      "0                       ILLUMINA         Illumina HiSeq 2000   \n",
      "1                       ILLUMINA         Illumina HiSeq 2000   \n",
      "2                       ILLUMINA         Illumina HiSeq 2000   \n",
      "0                       ILLUMINA         Illumina HiSeq 2000   \n",
      "1                       ILLUMINA         Illumina HiSeq 2000   \n",
      "\n",
      "  relationships.sample.data.id relationships.sample.data.type  \\\n",
      "0                    ERS491130                        samples   \n",
      "1                    ERS491130                        samples   \n",
      "2                    ERS491130                        samples   \n",
      "0                    ERS491201                        samples   \n",
      "1                    ERS491201                        samples   \n",
      "\n",
      "  relationships.assembly.data.id relationships.assembly.data.type  \\\n",
      "0                     ERZ4843237                       assemblies   \n",
      "1                     ERZ4842514                       assemblies   \n",
      "2                     ERZ4842561                       assemblies   \n",
      "0                     ERZ4842505                       assemblies   \n",
      "1                     ERZ4842566                       assemblies   \n",
      "\n",
      "  relationships.study.data.id relationships.study.data.type  \n",
      "0                MGYS00006075                       studies  \n",
      "1                MGYS00006075                       studies  \n",
      "2                MGYS00006075                       studies  \n",
      "0                MGYS00006075                       studies  \n",
      "1                MGYS00006075                       studies  \n",
      "analyzing 49 rows\n",
      "processing MGYA00616211\n",
      "processing MGYA00687433\n",
      "processing MGYA00687456\n",
      "processing MGYA00615742\n",
      "processing MGYA00616249\n",
      "processing MGYA00687455\n",
      "processing MGYA00615715\n",
      "processing MGYA00616170\n",
      "processing MGYA00616183\n",
      "processing MGYA00616202\n",
      "processing MGYA00616248\n",
      "processing MGYA00616316\n",
      "processing MGYA00687454\n",
      "processing MGYA00590513\n",
      "processing MGYA00590515\n",
      "processing MGYA00590549\n"
     ]
    }
   ],
   "source": [
    "analyses = get_sample_analyses(api_url, study_samples)\n",
    "print(f\"Sample analyses: {analyses[:5]}\")\n",
    "analyses = set_row_color_by_term_presence(api_url, go_term, identifier, analyses)\n",
    "df2 = join_on_sample_id_sub_select_df_columns(analyses, rename_columns, columns_list, study_samples)\n",
    "m2 = add_data_to_map(df2, popup_list, identifier)\n",
    "m2\n"
   ]
  },
  {
   "cell_type": "code",
   "execution_count": null,
   "metadata": {},
   "outputs": [],
   "source": []
  },
  {
   "cell_type": "code",
   "execution_count": null,
   "metadata": {},
   "outputs": [],
   "source": []
  }
 ],
 "metadata": {
  "kernelspec": {
   "display_name": ".env",
   "language": "python",
   "name": "python3"
  },
  "language_info": {
   "codemirror_mode": {
    "name": "ipython",
    "version": 3
   },
   "file_extension": ".py",
   "mimetype": "text/x-python",
   "name": "python",
   "nbconvert_exporter": "python",
   "pygments_lexer": "ipython3",
   "version": "3.11.4"
  }
 },
 "nbformat": 4,
 "nbformat_minor": 4
}
