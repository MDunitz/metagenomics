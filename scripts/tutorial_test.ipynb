{
 "cells": [
  {
   "cell_type": "code",
   "execution_count": 1,
   "metadata": {},
   "outputs": [
    {
     "data": {
      "text/plain": [
       "'/Users/madisond/Desktop/classes/2023/fall/bi270/metagenomics'"
      ]
     },
     "execution_count": 1,
     "metadata": {},
     "output_type": "execute_result"
    }
   ],
   "source": [
    "import os\n",
    "\n",
    "os.chdir(\"/Users/madisond/Desktop/classes/2023/fall/bi270/metagenomics/\")\n",
    "os.getcwd()\n"
   ]
  },
  {
   "cell_type": "code",
   "execution_count": 1,
   "metadata": {},
   "outputs": [],
   "source": [
    "\n",
    "import os\n",
    "from src.extract import fetch_metadata, fetch_study_data, get_sample_analyses, handle_analysis_summary, check_available_sample_analysis_data, get_data_file\n",
    "from src.plot import add_data_to_map\n",
    "from src.todo import join_on_sample_id_sub_select_df_columns, set_row_color_by_term_presence\n",
    "endpoint = \"studies/MGYS00002998\"\n",
    "api_root = \"https://www.ebi.ac.uk/metagenomics/api/v1/\""
   ]
  },
  {
   "cell_type": "code",
   "execution_count": 3,
   "metadata": {},
   "outputs": [
    {
     "name": "stdout",
     "output_type": "stream",
     "text": [
      "fetching MGYS00002998 samples\n"
     ]
    },
    {
     "data": {
      "text/html": [
       "<div>\n",
       "<style scoped>\n",
       "    .dataframe tbody tr th:only-of-type {\n",
       "        vertical-align: middle;\n",
       "    }\n",
       "\n",
       "    .dataframe tbody tr th {\n",
       "        vertical-align: top;\n",
       "    }\n",
       "\n",
       "    .dataframe thead th {\n",
       "        text-align: right;\n",
       "    }\n",
       "</style>\n",
       "<table border=\"1\" class=\"dataframe\">\n",
       "  <thead>\n",
       "    <tr style=\"text-align: right;\">\n",
       "      <th></th>\n",
       "      <th>sample_id</th>\n",
       "      <th>study</th>\n",
       "      <th>lon</th>\n",
       "      <th>lat</th>\n",
       "      <th>sample_description</th>\n",
       "      <th>biome</th>\n",
       "      <th>environment</th>\n",
       "      <th>biome_relationship</th>\n",
       "      <th>color</th>\n",
       "    </tr>\n",
       "    <tr>\n",
       "      <th>accession</th>\n",
       "      <th></th>\n",
       "      <th></th>\n",
       "      <th></th>\n",
       "      <th></th>\n",
       "      <th></th>\n",
       "      <th></th>\n",
       "      <th></th>\n",
       "      <th></th>\n",
       "      <th></th>\n",
       "    </tr>\n",
       "  </thead>\n",
       "  <tbody>\n",
       "    <tr>\n",
       "      <th>ERS196395</th>\n",
       "      <td>ERS196395</td>\n",
       "      <td>MGYS00002998</td>\n",
       "      <td>-121.9</td>\n",
       "      <td>36.6167</td>\n",
       "      <td>Bacterial communities in seawater</td>\n",
       "      <td>ENVO:marine biome</td>\n",
       "      <td>ENVO:coastal water</td>\n",
       "      <td>root:Host-associated:Algae:Brown Algae</td>\n",
       "      <td>#FF0000</td>\n",
       "    </tr>\n",
       "    <tr>\n",
       "      <th>ERS196396</th>\n",
       "      <td>ERS196396</td>\n",
       "      <td>MGYS00002998</td>\n",
       "      <td>-121.9</td>\n",
       "      <td>36.6167</td>\n",
       "      <td>Bacterial communities in seawater</td>\n",
       "      <td>ENVO:ocean water</td>\n",
       "      <td>ENVO:coastal water</td>\n",
       "      <td>root:Host-associated:Algae:Brown Algae</td>\n",
       "      <td>#FF0000</td>\n",
       "    </tr>\n",
       "    <tr>\n",
       "      <th>ERS196397</th>\n",
       "      <td>ERS196397</td>\n",
       "      <td>MGYS00002998</td>\n",
       "      <td>-121.9</td>\n",
       "      <td>36.6167</td>\n",
       "      <td>Bacterial communities in seawater</td>\n",
       "      <td>ENVO:marine biome</td>\n",
       "      <td>ENVO:coastal water</td>\n",
       "      <td>root:Host-associated:Algae:Brown Algae</td>\n",
       "      <td>#FF0000</td>\n",
       "    </tr>\n",
       "    <tr>\n",
       "      <th>ERS196398</th>\n",
       "      <td>ERS196398</td>\n",
       "      <td>MGYS00002998</td>\n",
       "      <td>-121.9</td>\n",
       "      <td>36.6167</td>\n",
       "      <td>Bacterial biofilms on the surface of Macrocyst...</td>\n",
       "      <td>ENVO:marine biome</td>\n",
       "      <td>ENVO:plant-associated habitat</td>\n",
       "      <td>root:Host-associated:Algae:Brown Algae</td>\n",
       "      <td>#FF0000</td>\n",
       "    </tr>\n",
       "    <tr>\n",
       "      <th>ERS196399</th>\n",
       "      <td>ERS196399</td>\n",
       "      <td>MGYS00002998</td>\n",
       "      <td>-121.9</td>\n",
       "      <td>36.6167</td>\n",
       "      <td>Bacterial communities in seawater</td>\n",
       "      <td>ENVO:marine biome</td>\n",
       "      <td>ENVO:coastal water</td>\n",
       "      <td>root:Host-associated:Algae:Brown Algae</td>\n",
       "      <td>#FF0000</td>\n",
       "    </tr>\n",
       "  </tbody>\n",
       "</table>\n",
       "</div>"
      ],
      "text/plain": [
       "           sample_id  ...    color\n",
       "accession             ...         \n",
       "ERS196395  ERS196395  ...  #FF0000\n",
       "ERS196396  ERS196396  ...  #FF0000\n",
       "ERS196397  ERS196397  ...  #FF0000\n",
       "ERS196398  ERS196398  ...  #FF0000\n",
       "ERS196399  ERS196399  ...  #FF0000\n",
       "\n",
       "[5 rows x 9 columns]"
      ]
     },
     "execution_count": 3,
     "metadata": {},
     "output_type": "execute_result"
    }
   ],
   "source": [
    "\n",
    "study_metadata = fetch_metadata(endpoint, api_root)\n",
    "study_metadata\n",
    "study_samples = fetch_study_data(api_root, study_metadata)\n",
    "study_samples\n",
    "study_samples_subset = study_samples[:5]\n",
    "study_samples_subset"
   ]
  },
  {
   "cell_type": "code",
   "execution_count": 4,
   "metadata": {},
   "outputs": [],
   "source": [
    "analyses = get_sample_analyses(api_root, study_samples_subset)\n"
   ]
  },
  {
   "cell_type": "code",
   "execution_count": 3,
   "metadata": {},
   "outputs": [
    {
     "name": "stdout",
     "output_type": "stream",
     "text": [
      "\n",
      "Files available for analysis MGYA00212985:\n",
      "ERR204744_FASTQ.fasta.gz: Processed nucleotide reads\n",
      "relevant url: https://www.ebi.ac.uk/metagenomics/api/v1/analyses/MGYA00212985/file/ERR204744_FASTQ.fasta.gz\n",
      "ERR204744_FASTQ_CDS_annotated.faa.gz: Predicted CDS with annotation\n",
      "relevant url: https://www.ebi.ac.uk/metagenomics/api/v1/analyses/MGYA00212985/file/ERR204744_FASTQ_CDS_annotated.faa.gz\n",
      "ERR204744_FASTQ_CDS_unannotated.faa.gz: Predicted CDS without annotation\n",
      "relevant url: https://www.ebi.ac.uk/metagenomics/api/v1/analyses/MGYA00212985/file/ERR204744_FASTQ_CDS_unannotated.faa.gz\n",
      "ERR204744_FASTQ_interproscan.fasta.gz: Processed reads with annotation\n",
      "relevant url: https://www.ebi.ac.uk/metagenomics/api/v1/analyses/MGYA00212985/file/ERR204744_FASTQ_interproscan.fasta.gz\n",
      "ERR204744_FASTQ_noFunction.fasta.gz: Processed reads without annotation\n",
      "relevant url: https://www.ebi.ac.uk/metagenomics/api/v1/analyses/MGYA00212985/file/ERR204744_FASTQ_noFunction.fasta.gz\n",
      "ERR204744_FASTQ_ORF_unannotated.ffn.gz: Predicted ORF without annotation\n",
      "relevant url: https://www.ebi.ac.uk/metagenomics/api/v1/analyses/MGYA00212985/file/ERR204744_FASTQ_ORF_unannotated.ffn.gz\n",
      "ERR204744_FASTQ_readsWithpCDS.fasta.gz: Processed reads with pCDS\n",
      "relevant url: https://www.ebi.ac.uk/metagenomics/api/v1/analyses/MGYA00212985/file/ERR204744_FASTQ_readsWithpCDS.fasta.gz\n",
      "ERR204744_FASTQ_SSU.fasta.gz: Reads encoding SSU rRNA\n",
      "relevant url: https://www.ebi.ac.uk/metagenomics/api/v1/analyses/MGYA00212985/file/ERR204744_FASTQ_SSU.fasta.gz\n",
      "ERR204744_FASTQ_SSU_MAPSeq.mseq.gz: MAPseq SSU assignments\n",
      "relevant url: https://www.ebi.ac.uk/metagenomics/api/v1/analyses/MGYA00212985/file/ERR204744_FASTQ_SSU_MAPSeq.mseq.gz\n",
      "ERR204744_FASTQ_SSU_OTU.tsv: Reads encoding SSU rRNA\n",
      "relevant url: https://www.ebi.ac.uk/metagenomics/api/v1/analyses/MGYA00212985/file/ERR204744_FASTQ_SSU_OTU.tsv\n",
      "ERR204744_FASTQ_SSU_OTU_TABLE_HDF5.biom: OTUs, counts and taxonomic assignments for SSU rRNA\n",
      "relevant url: https://www.ebi.ac.uk/metagenomics/api/v1/analyses/MGYA00212985/file/ERR204744_FASTQ_SSU_OTU_TABLE_HDF5.biom\n",
      "ERR204744_FASTQ_SSU_OTU_TABLE_JSON.biom: OTUs, counts and taxonomic assignments for SSU rRNA\n",
      "relevant url: https://www.ebi.ac.uk/metagenomics/api/v1/analyses/MGYA00212985/file/ERR204744_FASTQ_SSU_OTU_TABLE_JSON.biom\n",
      "ERR204744.SSU_rRNA_bacteria.RF00177.fa: Predicted Bacterial SSU rRNA\n",
      "relevant url: https://www.ebi.ac.uk/metagenomics/api/v1/analyses/MGYA00212985/file/ERR204744.SSU_rRNA_bacteria.RF00177.fa\n"
     ]
    }
   ],
   "source": [
    "# id = analyses.iloc[0]['attributes.accession']\n",
    "TEST_ANALYSIS_ID = 'MGYA00212985'\n",
    "data = check_available_sample_analysis_data(api_root, TEST_ANALYSIS_ID)"
   ]
  },
  {
   "cell_type": "code",
   "execution_count": 6,
   "metadata": {},
   "outputs": [],
   "source": [
    "\n",
    "download_url = \"https://www.ebi.ac.uk/metagenomics/api/v1/analyses/MGYA00212985/file/ERR204744_FASTQ_SSU_OTU_TABLE_JSON.biom\"\n",
    "file_root = \"../metagenomics/tmp/\"\n",
    "file_path = os.path.join(file_root, f\"TEST_ANALYSIS_ID_FASTQ_SSU_OTU.biom\")\n",
    "get_data_file(file_path, download_url)\n"
   ]
  },
  {
   "cell_type": "code",
   "execution_count": 8,
   "metadata": {},
   "outputs": [
    {
     "ename": "ModuleNotFoundError",
     "evalue": "No module named 'biom'",
     "output_type": "error",
     "traceback": [
      "\u001b[0;31m---------------------------------------------------------------------------\u001b[0m",
      "\u001b[0;31mModuleNotFoundError\u001b[0m                       Traceback (most recent call last)",
      "\u001b[1;32m/Users/madisond/Desktop/classes/2023/fall/bi270/metagenomics/scripts/tutorial_test.ipynb Cell 7\u001b[0m line \u001b[0;36m2\n\u001b[1;32m      <a href='vscode-notebook-cell:/Users/madisond/Desktop/classes/2023/fall/bi270/metagenomics/scripts/tutorial_test.ipynb#X15sZmlsZQ%3D%3D?line=0'>1</a>\u001b[0m \u001b[39mimport\u001b[39;00m \u001b[39mpandas\u001b[39;00m \u001b[39mas\u001b[39;00m \u001b[39mpd\u001b[39;00m\n\u001b[0;32m----> <a href='vscode-notebook-cell:/Users/madisond/Desktop/classes/2023/fall/bi270/metagenomics/scripts/tutorial_test.ipynb#X15sZmlsZQ%3D%3D?line=1'>2</a>\u001b[0m \u001b[39mfrom\u001b[39;00m \u001b[39mbiom\u001b[39;00m \u001b[39mimport\u001b[39;00m load_table\n\u001b[1;32m      <a href='vscode-notebook-cell:/Users/madisond/Desktop/classes/2023/fall/bi270/metagenomics/scripts/tutorial_test.ipynb#X15sZmlsZQ%3D%3D?line=2'>3</a>\u001b[0m table \u001b[39m=\u001b[39m load_table(file_path)\n\u001b[1;32m      <a href='vscode-notebook-cell:/Users/madisond/Desktop/classes/2023/fall/bi270/metagenomics/scripts/tutorial_test.ipynb#X15sZmlsZQ%3D%3D?line=3'>4</a>\u001b[0m table\n",
      "\u001b[0;31mModuleNotFoundError\u001b[0m: No module named 'biom'"
     ]
    }
   ],
   "source": [
    "import pandas as pd\n",
    "from biom import load_table\n",
    "table = load_table(file_path)\n",
    "table\n"
   ]
  },
  {
   "cell_type": "code",
   "execution_count": null,
   "metadata": {},
   "outputs": [],
   "source": [
    "atlanteco_endpoint = 'super-studies/atlanteco/flagship-studies'\n",
    "api_url=\"https://www.ebi.ac.uk/metagenomics/api/v1\"\n",
    "popup=[\"study\", \"sample_id\"]\n",
    "identifier = \"go-terms\"\n",
    "go_term = 'GO:0015878'\n",
    "rename_columns={\n",
    "    \"attributes.accession\": \"analysis_ID\", \n",
    "    'relationships.study.data.id': \"study_ID\",\n",
    "    'relationships.sample.data.id': \"sample_ID\", \n",
    "    'relationships.assembly.data.id': \"assembly_ID\"\n",
    "    }\n",
    "columns_list = [identifier, 'lon', 'lat', 'study', 'attributes.accession', 'relationships.study.data.id', 'relationships.sample.data.id', 'relationships.assembly.data.id']\n",
    "popup_list = [\"study_ID\", \"sample_ID\", \"assembly_ID\", \"analysis_ID\"]"
   ]
  },
  {
   "cell_type": "code",
   "execution_count": null,
   "metadata": {},
   "outputs": [],
   "source": [
    "study_metadata = fetch_metadata(atlanteco_endpoint, api_url)\n",
    "print(f\"fetched study metadata: {study_metadata[:5]}\")\n",
    "study_samples = fetch_study_data(api_url, study_metadata)\n",
    "print(f\"fetched {len(study_samples)} samples\")\n",
    "print(f\"Study samples {study_samples.head()}\")"
   ]
  },
  {
   "cell_type": "code",
   "execution_count": null,
   "metadata": {},
   "outputs": [],
   "source": [
    "\n",
    "m = add_data_to_map(study_samples, popup, 'color')\n",
    "m"
   ]
  },
  {
   "cell_type": "code",
   "execution_count": null,
   "metadata": {},
   "outputs": [],
   "source": [
    "analyses = get_sample_analyses(api_url, study_samples)\n",
    "print(f\"Sample analyses: {analyses[:5]}\")\n",
    "analyses = set_row_color_by_term_presence(api_url, go_term, identifier, analyses)\n",
    "df2 = join_on_sample_id_sub_select_df_columns(analyses, rename_columns, columns_list, study_samples)\n",
    "m2 = add_data_to_map(df2, popup_list, identifier)\n",
    "m2\n"
   ]
  },
  {
   "cell_type": "code",
   "execution_count": null,
   "metadata": {},
   "outputs": [],
   "source": []
  },
  {
   "cell_type": "code",
   "execution_count": null,
   "metadata": {},
   "outputs": [],
   "source": []
  }
 ],
 "metadata": {
  "kernelspec": {
   "display_name": ".env",
   "language": "python",
   "name": "python3"
  },
  "language_info": {
   "codemirror_mode": {
    "name": "ipython",
    "version": 3
   },
   "file_extension": ".py",
   "mimetype": "text/x-python",
   "name": "python",
   "nbconvert_exporter": "python",
   "pygments_lexer": "ipython3",
   "version": "3.11.4"
  }
 },
 "nbformat": 4,
 "nbformat_minor": 4
}
