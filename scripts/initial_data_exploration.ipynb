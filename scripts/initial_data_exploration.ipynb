{
 "cells": [
  {
   "cell_type": "code",
   "execution_count": 13,
   "metadata": {},
   "outputs": [],
   "source": [
    "import math\n",
    "def calc_pH(acid_conc):\n",
    "    return -math.log10(acid_conc)\n",
    "\n",
    "def calc_ka(acid_conc, base_conc, initial_conc):\n",
    "    return (acid_conc*base_conc)/initial_conc\n",
    "\n",
    "def calc_conc_from_pH(pH):\n",
    "    if pH > 7.0:\n",
    "        pOH = 14 - pH\n",
    "        return 10**(-pOH)\n",
    "    else:\n",
    "        return 10**(-pH)"
   ]
  },
  {
   "cell_type": "code",
   "execution_count": 14,
   "metadata": {},
   "outputs": [
    {
     "data": {
      "text/plain": [
       "0.5128613839913658"
      ]
     },
     "execution_count": 14,
     "metadata": {},
     "output_type": "execute_result"
    }
   ],
   "source": [
    "calc_conc_from_pH(13.71)"
   ]
  },
  {
   "cell_type": "code",
   "execution_count": 12,
   "metadata": {},
   "outputs": [],
   "source": [
    "def calculate_percent_ionization_of_weak_acid(starting_conc, ka):\n",
    "    OH_conc = (ka * starting_conc)**(1/2)\n",
    "    ionization = OH_conc/starting_conc\n",
    "    return ionization* 100"
   ]
  },
  {
   "cell_type": "code",
   "execution_count": null,
   "metadata": {},
   "outputs": [],
   "source": []
  }
 ],
 "metadata": {
  "kernelspec": {
   "display_name": ".env",
   "language": "python",
   "name": "python3"
  },
  "language_info": {
   "codemirror_mode": {
    "name": "ipython",
    "version": 3
   },
   "file_extension": ".py",
   "mimetype": "text/x-python",
   "name": "python",
   "nbconvert_exporter": "python",
   "pygments_lexer": "ipython3",
   "version": "3.9.6"
  },
  "vscode": {
   "interpreter": {
    "hash": "f0b0192d875430f17d416a58f1eb1ad09cb733937bf475342e8e3dda8b050b36"
   }
  }
 },
 "nbformat": 4,
 "nbformat_minor": 4
}
